{
  "nbformat": 4,
  "nbformat_minor": 0,
  "metadata": {
    "colab": {
      "provenance": [],
      "gpuClass": "premium"
    },
    "kernelspec": {
      "name": "python3",
      "display_name": "Python 3"
    },
    "language_info": {
      "name": "python"
    },
    "accelerator": "GPU",
    "gpuClass": "premium"
  },
  "cells": [
    {
      "cell_type": "markdown",
      "source": [
        "Let's train models for generating Shakespeare with different sentiments.\n",
        "\n",
        "Happy Shakespeare will say things like:\n",
        "\n",
        "*“Nay, thanks, then, I do meet change, this Romeo.\n",
        "The pleasure of his hair!”*\n",
        "\n",
        "Sad Shakespear will say things like:\n",
        "\n",
        "\n",
        "*“The senators's dead, of their world:\n",
        "Be not for your friends.”*\n",
        "\n"
      ],
      "metadata": {
        "id": "9-LuRS2wAaBS"
      }
    },
    {
      "cell_type": "code",
      "source": [
        "import torch\n",
        "import torch.nn as nn\n",
        "from torch.nn import functional as F\n",
        "\n",
        "# hyperparameters\n",
        "batch_size = 16 # how many independent sequences will we process in parallel?\n",
        "block_size = 32 # what is the maximum context length for predictions?\n",
        "max_iters = 3000\n",
        "eval_interval = 100\n",
        "learning_rate = 1e-3\n",
        "device = 'cuda' if torch.cuda.is_available() else 'cpu'\n",
        "eval_iters = 200\n",
        "n_embd = 64\n",
        "n_head = 4\n",
        "n_layer = 4\n",
        "dropout = 0.0\n",
        "# ------------\n",
        "\n",
        "torch.manual_seed(1337)\n"
      ],
      "metadata": {
        "id": "aZGtyx5lAOzu",
        "colab": {
          "base_uri": "https://localhost:8080/"
        },
        "outputId": "b64693ff-f0a2-4828-a83d-56153149996c"
      },
      "execution_count": null,
      "outputs": [
        {
          "output_type": "execute_result",
          "data": {
            "text/plain": [
              "<torch._C.Generator at 0x7f207d238450>"
            ]
          },
          "metadata": {},
          "execution_count": 1
        }
      ]
    },
    {
      "cell_type": "code",
      "source": [
        "# Download Shakespeare\n",
        "%time\n",
        "!wget https://raw.githubusercontent.com/karpathy/char-rnn/master/data/tinyshakespeare/input.txt\n",
        "with open('input.txt', 'r', encoding='utf-8') as f:\n",
        "    text = f.read()"
      ],
      "metadata": {
        "colab": {
          "base_uri": "https://localhost:8080/"
        },
        "id": "DA-Gox1YiM6l",
        "outputId": "f77fe30f-6506-4033-d8e5-21a3c4de909c"
      },
      "execution_count": null,
      "outputs": [
        {
          "output_type": "stream",
          "name": "stdout",
          "text": [
            "CPU times: user 2 µs, sys: 1 µs, total: 3 µs\n",
            "Wall time: 4.77 µs\n",
            "--2023-03-18 00:10:54--  https://raw.githubusercontent.com/karpathy/char-rnn/master/data/tinyshakespeare/input.txt\n",
            "Resolving raw.githubusercontent.com (raw.githubusercontent.com)... 185.199.110.133, 185.199.109.133, 185.199.108.133, ...\n",
            "Connecting to raw.githubusercontent.com (raw.githubusercontent.com)|185.199.110.133|:443... connected.\n",
            "HTTP request sent, awaiting response... 200 OK\n",
            "Length: 1115394 (1.1M) [text/plain]\n",
            "Saving to: ‘input.txt.2’\n",
            "\n",
            "input.txt.2         100%[===================>]   1.06M  --.-KB/s    in 0.05s   \n",
            "\n",
            "2023-03-18 00:10:54 (20.7 MB/s) - ‘input.txt.2’ saved [1115394/1115394]\n",
            "\n"
          ]
        }
      ]
    },
    {
      "cell_type": "markdown",
      "source": [
        "Rather than use character level tokenizer lets use tiktoken; Openai's implementation of a Byte Pair Encoding (BPE) tokenizer"
      ],
      "metadata": {
        "id": "SyyJfXbdAr81"
      }
    },
    {
      "cell_type": "code",
      "source": [
        "!pip install tiktoken\n",
        "import tiktoken"
      ],
      "metadata": {
        "colab": {
          "base_uri": "https://localhost:8080/"
        },
        "id": "y7LBbGC9onTu",
        "outputId": "5027edca-c4f8-4340-a64d-a89ad5f81171"
      },
      "execution_count": null,
      "outputs": [
        {
          "output_type": "stream",
          "name": "stdout",
          "text": [
            "Looking in indexes: https://pypi.org/simple, https://us-python.pkg.dev/colab-wheels/public/simple/\n",
            "Requirement already satisfied: tiktoken in /usr/local/lib/python3.9/dist-packages (0.3.2)\n",
            "Requirement already satisfied: requests>=2.26.0 in /usr/local/lib/python3.9/dist-packages (from tiktoken) (2.27.1)\n",
            "Requirement already satisfied: regex>=2022.1.18 in /usr/local/lib/python3.9/dist-packages (from tiktoken) (2022.10.31)\n",
            "Requirement already satisfied: certifi>=2017.4.17 in /usr/local/lib/python3.9/dist-packages (from requests>=2.26.0->tiktoken) (2022.12.7)\n",
            "Requirement already satisfied: urllib3<1.27,>=1.21.1 in /usr/local/lib/python3.9/dist-packages (from requests>=2.26.0->tiktoken) (1.26.15)\n",
            "Requirement already satisfied: charset-normalizer~=2.0.0 in /usr/local/lib/python3.9/dist-packages (from requests>=2.26.0->tiktoken) (2.0.12)\n",
            "Requirement already satisfied: idna<4,>=2.5 in /usr/local/lib/python3.9/dist-packages (from requests>=2.26.0->tiktoken) (3.4)\n"
          ]
        }
      ]
    },
    {
      "cell_type": "code",
      "source": [
        "enc = tiktoken.get_encoding(\"gpt2\")\n",
        "vocab_size = 50257"
      ],
      "metadata": {
        "id": "btWJmnfapKhn"
      },
      "execution_count": null,
      "outputs": []
    },
    {
      "cell_type": "code",
      "source": [
        "# You can see that the sequence of characters 'the' has been encoded as a single\n",
        "# number because it is commonly reoccuring whereas 'thh' requires two numbers to\n",
        "# encode 'th' and 'h'\n",
        "\n",
        "print(enc.encode('the'))\n",
        "print(enc.encode('thh'))\n",
        "print(enc.decode([400]))"
      ],
      "metadata": {
        "colab": {
          "base_uri": "https://localhost:8080/"
        },
        "id": "8f9l4JdQCfSd",
        "outputId": "bb7afceb-e847-4cfc-99c2-9e5b49aafbdc"
      },
      "execution_count": null,
      "outputs": [
        {
          "output_type": "stream",
          "name": "stdout",
          "text": [
            "[1169]\n",
            "[400, 71]\n",
            "th\n"
          ]
        }
      ]
    },
    {
      "cell_type": "code",
      "source": [
        "# Train and test splits\n",
        "data = torch.tensor(enc.encode(text), dtype=torch.long)\n",
        "n = int(0.9*len(data)) # first 90% will be train, rest val\n",
        "train_data = data[:n]\n",
        "val_data = data[n:]\n",
        "\n",
        "# data loading\n",
        "def get_batch(split):\n",
        "    # generate a small batch of data of inputs x and targets y\n",
        "    data = train_data if split == 'train' else val_data\n",
        "    ix = torch.randint(len(data) - block_size, (batch_size,))\n",
        "    x = torch.stack([data[i:i+block_size] for i in ix])\n",
        "    y = torch.stack([data[i+1:i+block_size+1] for i in ix])\n",
        "    x, y = x.to(device), y.to(device)\n",
        "    return x, y\n",
        "\n",
        "@torch.no_grad()\n",
        "def estimate_loss():\n",
        "    out = {}\n",
        "    model.eval()\n",
        "    for split in ['train', 'val']:\n",
        "        losses = torch.zeros(eval_iters)\n",
        "        for k in range(eval_iters):\n",
        "            X, Y = get_batch(split)\n",
        "            logits, loss = model(X, Y)\n",
        "            losses[k] = loss.item()\n",
        "        out[split] = losses.mean()\n",
        "    model.train()\n",
        "    return out\n",
        "\n",
        "class Head(nn.Module):\n",
        "    \"\"\" one head of self-attention \"\"\"\n",
        "\n",
        "    def __init__(self, head_size):\n",
        "        super().__init__()\n",
        "        self.key = nn.Linear(n_embd, head_size, bias=False)\n",
        "        self.query = nn.Linear(n_embd, head_size, bias=False)\n",
        "        self.value = nn.Linear(n_embd, head_size, bias=False)\n",
        "        self.register_buffer('tril', torch.tril(torch.ones(block_size, block_size)))\n",
        "\n",
        "        self.dropout = nn.Dropout(dropout)\n",
        "\n",
        "    def forward(self, x):\n",
        "        B,T,C = x.shape\n",
        "        k = self.key(x)   # (B,T,C)\n",
        "        q = self.query(x) # (B,T,C)\n",
        "        # compute attention scores (\"affinities\")\n",
        "        wei = q @ k.transpose(-2,-1) * C**-0.5 # (B, T, C) @ (B, C, T) -> (B, T, T)\n",
        "        wei = wei.masked_fill(self.tril[:T, :T] == 0, float('-inf')) # (B, T, T)\n",
        "        wei = F.softmax(wei, dim=-1) # (B, T, T)\n",
        "        wei = self.dropout(wei)\n",
        "        # perform the weighted aggregation of the values\n",
        "        v = self.value(x) # (B,T,C)\n",
        "        out = wei @ v # (B, T, T) @ (B, T, C) -> (B, T, C)\n",
        "        return out\n",
        "\n",
        "class MultiHeadAttention(nn.Module):\n",
        "    \"\"\" multiple heads of self-attention in parallel \"\"\"\n",
        "\n",
        "    def __init__(self, num_heads, head_size):\n",
        "        super().__init__()\n",
        "        self.heads = nn.ModuleList([Head(head_size) for _ in range(num_heads)])\n",
        "        self.proj = nn.Linear(n_embd, n_embd)\n",
        "        self.dropout = nn.Dropout(dropout)\n",
        "\n",
        "    def forward(self, x):\n",
        "        out = torch.cat([h(x) for h in self.heads], dim=-1)\n",
        "        out = self.dropout(self.proj(out))\n",
        "        return out\n",
        "\n",
        "class FeedFoward(nn.Module):\n",
        "    \"\"\" a simple linear layer followed by a non-linearity \"\"\"\n",
        "\n",
        "    def __init__(self, n_embd):\n",
        "        super().__init__()\n",
        "        self.net = nn.Sequential(\n",
        "            nn.Linear(n_embd, 4 * n_embd),\n",
        "            nn.ReLU(),\n",
        "            nn.Linear(4 * n_embd, n_embd),\n",
        "            nn.Dropout(dropout),\n",
        "        )\n",
        "\n",
        "    def forward(self, x):\n",
        "        return self.net(x)\n",
        "\n",
        "class Block(nn.Module):\n",
        "    \"\"\" Transformer block: communication followed by computation \"\"\"\n",
        "\n",
        "    def __init__(self, n_embd, n_head):\n",
        "        # n_embd: embedding dimension, n_head: the number of heads we'd like\n",
        "        super().__init__()\n",
        "        head_size = n_embd // n_head\n",
        "        self.sa = MultiHeadAttention(n_head, head_size)\n",
        "        self.ffwd = FeedFoward(n_embd)\n",
        "        self.ln1 = nn.LayerNorm(n_embd)\n",
        "        self.ln2 = nn.LayerNorm(n_embd)\n",
        "\n",
        "    def forward(self, x):\n",
        "        x = x + self.sa(self.ln1(x))\n",
        "        x = x + self.ffwd(self.ln2(x))\n",
        "        return x\n",
        "\n",
        "class GPT(nn.Module):\n",
        "\n",
        "    def __init__(self):\n",
        "        super().__init__()\n",
        "        # each token directly reads off the logits for the next token from a lookup table\n",
        "        self.token_embedding_table = nn.Embedding(vocab_size, n_embd)\n",
        "        self.position_embedding_table = nn.Embedding(block_size, n_embd)\n",
        "        self.blocks = nn.Sequential(*[Block(n_embd, n_head=n_head) for _ in range(n_layer)])\n",
        "        self.ln_f = nn.LayerNorm(n_embd) # final layer norm\n",
        "        self.lm_head = nn.Linear(n_embd, vocab_size)\n",
        "\n",
        "    def forward(self, idx, targets=None):\n",
        "        B, T = idx.shape\n",
        "\n",
        "        # idx and targets are both (B,T) tensor of integers\n",
        "        tok_emb = self.token_embedding_table(idx) # (B,T,C)\n",
        "        pos_emb = self.position_embedding_table(torch.arange(T, device=device)) # (T,C)\n",
        "        x = tok_emb + pos_emb # (B,T,C)\n",
        "        x = self.blocks(x) # (B,T,C)\n",
        "        x = self.ln_f(x) # (B,T,C)\n",
        "        logits = self.lm_head(x) # (B,T,vocab_size)\n",
        "\n",
        "        if targets is None:\n",
        "            loss = None\n",
        "        else:\n",
        "            B, T, C = logits.shape\n",
        "            logits = logits.view(B*T, C)\n",
        "            targets = targets.view(B*T)\n",
        "            loss = F.cross_entropy(logits, targets)\n",
        "\n",
        "        return logits, loss\n",
        "\n",
        "    def generate(self, idx, max_new_tokens):\n",
        "        # idx is (B, T) array of indices in the current context\n",
        "        for _ in range(max_new_tokens):\n",
        "            # crop idx to the last block_size tokens\n",
        "            idx_cond = idx[:, -block_size:]\n",
        "            # get the predictions\n",
        "            logits, loss = self(idx_cond)\n",
        "            # focus only on the last time step\n",
        "            logits = logits[:, -1, :] # becomes (B, C)\n",
        "            # apply softmax to get probabilities\n",
        "            probs = F.softmax(logits, dim=-1) # (B, C)\n",
        "            # sample from the distribution\n",
        "            idx_next = torch.multinomial(probs, num_samples=1) # (B, 1)\n",
        "            # append sampled index to the running sequence\n",
        "            idx = torch.cat((idx, idx_next), dim=1) # (B, T+1)\n",
        "        return idx\n",
        "\n",
        "model = GPT()\n",
        "m = model.to(device)\n",
        "# print the number of parameters in the model\n",
        "print(sum(p.numel() for p in m.parameters())/1e6, 'M parameters')\n",
        "\n",
        "# create a PyTorch optimizer\n",
        "optimizer = torch.optim.AdamW(model.parameters(), lr=learning_rate)\n",
        "\n",
        "for iter in range(max_iters):\n",
        "\n",
        "    # every once in a while evaluate the loss on train and val sets\n",
        "    if iter % eval_interval == 0 or iter == max_iters - 1:\n",
        "        losses = estimate_loss()\n",
        "        print(f\"step {iter}: train loss {losses['train']:.4f}, val loss {losses['val']:.4f}\")\n",
        "\n",
        "    # sample a batch of data\n",
        "    xb, yb = get_batch('train')\n",
        "\n",
        "    # evaluate the loss\n",
        "    logits, loss = model(xb, yb)\n",
        "    optimizer.zero_grad(set_to_none=True)\n",
        "    loss.backward()\n",
        "    optimizer.step()"
      ],
      "metadata": {
        "colab": {
          "base_uri": "https://localhost:8080/"
        },
        "id": "ngS-jQschyJc",
        "outputId": "92e1fb73-81d0-49f5-a556-caeef0c3c3c1"
      },
      "execution_count": null,
      "outputs": [
        {
          "output_type": "stream",
          "name": "stdout",
          "text": [
            "6.684497 M parameters\n",
            "step 0: train loss 10.9982, val loss 11.0105\n",
            "step 100: train loss 6.3955, val loss 6.4657\n",
            "step 200: train loss 6.0255, val loss 6.1584\n",
            "step 300: train loss 5.7608, val loss 5.9578\n",
            "step 400: train loss 5.4809, val loss 5.7327\n",
            "step 500: train loss 5.2543, val loss 5.5400\n",
            "step 600: train loss 5.1017, val loss 5.4008\n",
            "step 700: train loss 4.9718, val loss 5.3382\n",
            "step 800: train loss 4.8850, val loss 5.2539\n",
            "step 900: train loss 4.8084, val loss 5.1674\n",
            "step 1000: train loss 4.7187, val loss 5.0770\n",
            "step 1100: train loss 4.6621, val loss 5.1166\n",
            "step 1200: train loss 4.5916, val loss 5.0159\n",
            "step 1300: train loss 4.5599, val loss 5.0297\n",
            "step 1400: train loss 4.4998, val loss 4.9929\n",
            "step 1500: train loss 4.4481, val loss 4.9933\n",
            "step 1600: train loss 4.4182, val loss 4.9204\n",
            "step 1700: train loss 4.4202, val loss 4.9445\n",
            "step 1800: train loss 4.3644, val loss 4.9217\n",
            "step 1900: train loss 4.3479, val loss 4.9221\n",
            "step 2000: train loss 4.2925, val loss 4.8603\n",
            "step 2100: train loss 4.2446, val loss 4.8765\n",
            "step 2200: train loss 4.2491, val loss 4.8753\n",
            "step 2300: train loss 4.1900, val loss 4.8271\n",
            "step 2400: train loss 4.1705, val loss 4.8660\n",
            "step 2500: train loss 4.1608, val loss 4.8778\n",
            "step 2600: train loss 4.1379, val loss 4.8898\n",
            "step 2700: train loss 4.1021, val loss 4.8513\n",
            "step 2800: train loss 4.1099, val loss 4.8742\n",
            "step 2900: train loss 4.0874, val loss 4.8534\n",
            "step 2999: train loss 4.0720, val loss 4.8296\n"
          ]
        }
      ]
    },
    {
      "cell_type": "code",
      "source": [
        "# generate from the model\n",
        "context = torch.zeros((1, 1), dtype=torch.long, device=device)\n",
        "print(enc.decode(m.generate(context, max_new_tokens=100)[0].tolist()))"
      ],
      "metadata": {
        "colab": {
          "base_uri": "https://localhost:8080/"
        },
        "id": "9C93Lk1biRLE",
        "outputId": "995cfcb1-4e96-489e-c944-e4294651c69d"
      },
      "execution_count": null,
      "outputs": [
        {
          "output_type": "stream",
          "name": "stdout",
          "text": [
            "! what any consul\n",
            "matter they have we be for so dishonour\n",
            "Redpt'd in our courtesy,\n",
            "Or his highness i' the embracements, nor feeds had an err:\n",
            "I have the hallissign daughter to pawn'd.\n",
            "and stout see me: but God they forget\n",
            "And meet the tribranch man,\n",
            "Of a brace art'd; I'll plant show't\n",
            "From whom I a joyful with a chair access with callat.\n",
            "\n",
            "HENRY\n"
          ]
        }
      ]
    },
    {
      "cell_type": "code",
      "source": [
        "!pip install transformers\n",
        "from transformers import pipeline\n",
        "sentiment_pipeline = pipeline(model=\"finiteautomata/bertweet-base-sentiment-analysis\")"
      ],
      "metadata": {
        "colab": {
          "base_uri": "https://localhost:8080/"
        },
        "id": "f93j9jAXuK8S",
        "outputId": "0b16acde-c73c-4d27-9e16-05d5d8ce4add"
      },
      "execution_count": null,
      "outputs": [
        {
          "output_type": "stream",
          "name": "stdout",
          "text": [
            "Looking in indexes: https://pypi.org/simple, https://us-python.pkg.dev/colab-wheels/public/simple/\n",
            "Requirement already satisfied: transformers in /usr/local/lib/python3.9/dist-packages (4.27.1)\n",
            "Requirement already satisfied: filelock in /usr/local/lib/python3.9/dist-packages (from transformers) (3.10.0)\n",
            "Requirement already satisfied: pyyaml>=5.1 in /usr/local/lib/python3.9/dist-packages (from transformers) (6.0)\n",
            "Requirement already satisfied: numpy>=1.17 in /usr/local/lib/python3.9/dist-packages (from transformers) (1.22.4)\n",
            "Requirement already satisfied: tqdm>=4.27 in /usr/local/lib/python3.9/dist-packages (from transformers) (4.65.0)\n",
            "Requirement already satisfied: requests in /usr/local/lib/python3.9/dist-packages (from transformers) (2.27.1)\n",
            "Requirement already satisfied: tokenizers!=0.11.3,<0.14,>=0.11.1 in /usr/local/lib/python3.9/dist-packages (from transformers) (0.13.2)\n",
            "Requirement already satisfied: packaging>=20.0 in /usr/local/lib/python3.9/dist-packages (from transformers) (23.0)\n",
            "Requirement already satisfied: huggingface-hub<1.0,>=0.11.0 in /usr/local/lib/python3.9/dist-packages (from transformers) (0.13.2)\n",
            "Requirement already satisfied: regex!=2019.12.17 in /usr/local/lib/python3.9/dist-packages (from transformers) (2022.10.31)\n",
            "Requirement already satisfied: typing-extensions>=3.7.4.3 in /usr/local/lib/python3.9/dist-packages (from huggingface-hub<1.0,>=0.11.0->transformers) (4.5.0)\n",
            "Requirement already satisfied: urllib3<1.27,>=1.21.1 in /usr/local/lib/python3.9/dist-packages (from requests->transformers) (1.26.15)\n",
            "Requirement already satisfied: certifi>=2017.4.17 in /usr/local/lib/python3.9/dist-packages (from requests->transformers) (2022.12.7)\n",
            "Requirement already satisfied: charset-normalizer~=2.0.0 in /usr/local/lib/python3.9/dist-packages (from requests->transformers) (2.0.12)\n",
            "Requirement already satisfied: idna<4,>=2.5 in /usr/local/lib/python3.9/dist-packages (from requests->transformers) (3.4)\n"
          ]
        },
        {
          "output_type": "stream",
          "name": "stderr",
          "text": [
            "emoji is not installed, thus not converting emoticons or emojis into text. Install emoji: pip3 install emoji==0.6.0\n"
          ]
        }
      ]
    },
    {
      "cell_type": "code",
      "source": [
        "inps = [\"I'm the king of the world!\",\n",
        "        \"I'll be back.\",\n",
        "        \"The cake is a lie\",\n",
        "        \"To be forgotten is worse than death\",\n",
        "        \"All happy families are alike; each unhappy family is unhappy in its own way.\",\n",
        "        \"You don't need a reason to help people\",\n",
        "        ]\n",
        "res = sentiment_pipeline(inps)\n",
        "\n",
        "for i in range(len(inps)):\n",
        "  res[i]['text'] = inps[i]\n",
        "  print(res[i])"
      ],
      "metadata": {
        "colab": {
          "base_uri": "https://localhost:8080/"
        },
        "id": "v-fryBdOyKSD",
        "outputId": "1fd67b60-7906-4055-d758-7746281420ca"
      },
      "execution_count": null,
      "outputs": [
        {
          "output_type": "stream",
          "name": "stdout",
          "text": [
            "{'label': 'POS', 'score': 0.9771729707717896, 'text': \"I'm the king of the world!\"}\n",
            "{'label': 'POS', 'score': 0.5481611490249634, 'text': \"I'll be back.\"}\n",
            "{'label': 'NEG', 'score': 0.7581188678741455, 'text': 'The cake is a lie'}\n",
            "{'label': 'NEG', 'score': 0.8209365606307983, 'text': 'To be forgotten is worse than death'}\n",
            "{'label': 'NEU', 'score': 0.7874237895011902, 'text': 'All happy families are alike; each unhappy family is unhappy in its own way.'}\n",
            "{'label': 'NEU', 'score': 0.8731082081794739, 'text': \"You don't need a reason to help people\"}\n"
          ]
        }
      ]
    },
    {
      "cell_type": "code",
      "source": [
        "def get_reward(text, mode):\n",
        "  sent = sentiment_pipeline(text)\n",
        "  if mode == '+ve':\n",
        "    labels = torch.tensor([a['label']=='POS' for a in sent],dtype=torch.float16).unsqueeze(-1).to(device)\n",
        "  elif mode == '-ve':\n",
        "    labels = torch.tensor([a['label']=='NEG' for a in sent],dtype=torch.float16).unsqueeze(-1).to(device)\n",
        "  else:\n",
        "    raise ValueError('Unknown Mode')\n",
        "\n",
        "  weights = torch.tensor([a['score'] for a in sent],dtype=torch.float32).unsqueeze(-1).to(device)\n",
        "\n",
        "  rewards = labels * weights # (B, 1)\n",
        "\n",
        "  return rewards"
      ],
      "metadata": {
        "id": "St_giJWTZ19y"
      },
      "execution_count": null,
      "outputs": []
    },
    {
      "cell_type": "code",
      "source": [
        "def flatten(l):\n",
        "    return [item for sublist in l for item in sublist]\n",
        "print('Rewards in +ve mode')\n",
        "list(zip(inps, flatten(get_reward(inps, '+ve').tolist())))\n"
      ],
      "metadata": {
        "colab": {
          "base_uri": "https://localhost:8080/"
        },
        "id": "CmjSzmslbZZc",
        "outputId": "a6581a84-733c-4bdb-cdec-fcd93fdf8bd5"
      },
      "execution_count": null,
      "outputs": [
        {
          "output_type": "stream",
          "name": "stdout",
          "text": [
            "Rewards in +ve mode\n"
          ]
        },
        {
          "output_type": "execute_result",
          "data": {
            "text/plain": [
              "[(\"I'm the king of the world!\", 0.9771729707717896),\n",
              " (\"I'll be back.\", 0.5481611490249634),\n",
              " ('The cake is a lie', 0.0),\n",
              " ('To be forgotten is worse than death', 0.0),\n",
              " ('All happy families are alike; each unhappy family is unhappy in its own way.',\n",
              "  0.0),\n",
              " (\"You don't need a reason to help people\", 0.0)]"
            ]
          },
          "metadata": {},
          "execution_count": 11
        }
      ]
    },
    {
      "cell_type": "code",
      "source": [
        "print('Rewards in -ve mode')\n",
        "list(zip(inps, flatten(get_reward(inps, '-ve').tolist())))"
      ],
      "metadata": {
        "colab": {
          "base_uri": "https://localhost:8080/"
        },
        "id": "OzUDgNwGcfAH",
        "outputId": "7c0882e8-6fff-46d8-f900-66394ffd985b"
      },
      "execution_count": null,
      "outputs": [
        {
          "output_type": "stream",
          "name": "stdout",
          "text": [
            "Rewards in -ve mode\n"
          ]
        },
        {
          "output_type": "execute_result",
          "data": {
            "text/plain": [
              "[(\"I'm the king of the world!\", 0.0),\n",
              " (\"I'll be back.\", 0.0),\n",
              " ('The cake is a lie', 0.7581188678741455),\n",
              " ('To be forgotten is worse than death', 0.8209365606307983),\n",
              " ('All happy families are alike; each unhappy family is unhappy in its own way.',\n",
              "  0.0),\n",
              " (\"You don't need a reason to help people\", 0.0)]"
            ]
          },
          "metadata": {},
          "execution_count": 12
        }
      ]
    },
    {
      "cell_type": "code",
      "source": [
        "eval_interval_rlhf = 20\n",
        "max_iters_rlhf = 1000\n"
      ],
      "metadata": {
        "id": "37tezEm-CFXR"
      },
      "execution_count": null,
      "outputs": []
    },
    {
      "cell_type": "code",
      "source": [
        "from torch.distributions import Categorical\n",
        "class RLHF(nn.Module):\n",
        "    def __init__(self, model):\n",
        "        super().__init__()\n",
        "        self.model = model\n",
        "\n",
        "    def forward(self, idx, targets=None):\n",
        "        return self.model(idx, targets)\n",
        "\n",
        "    def generate(self, idx, max_new_tokens, block_size, ref_model=None):\n",
        "        # idx is (B, T) array of indices in the current context\n",
        "        log_probs = torch.tensor([]).to(device)\n",
        "        log_probs_ref = torch.tensor([]).to(device)\n",
        "\n",
        "        for i in range(max_new_tokens):\n",
        "            # crop idx to the last block_size tokens\n",
        "            idx_cond = idx[:, -block_size:]\n",
        "\n",
        "            # get the predictions\n",
        "            logits, loss = self(idx_cond)\n",
        "\n",
        "            # focus only on the last time step\n",
        "            logits = logits[:, -1, :] # becomes (B, C)\n",
        "\n",
        "            # logits define instance of Iategorical class\n",
        "            m = Categorical(logits=logits)\n",
        "\n",
        "            # sample from the distribution\n",
        "            idx_next = m.sample()\n",
        "\n",
        "            # get the log probability and append to running sequence\n",
        "            log_probs_idx_next = m.log_prob(idx_next)\n",
        "            log_probs = torch.cat((log_probs, log_probs_idx_next.view(-1,1)), dim=1)\n",
        "\n",
        "            if ref_model is not None:\n",
        "              # get log probability of sample idx_next under the reference model\n",
        "              logits_ref, _ = ref_model(idx_cond)\n",
        "              logits_ref = logits_ref[:, -1, :] # becomes (B, C)\n",
        "\n",
        "              m_ref = Categorical(logits=logits_ref)\n",
        "              log_probs_ref_idx_next = m_ref.log_prob(idx_next)\n",
        "              log_probs_ref = torch.cat((log_probs_ref, log_probs_ref_idx_next.view(-1,1)), dim=1)\n",
        "\n",
        "            # append sampled index to the running sequence\n",
        "            idx = torch.cat((idx, idx_next.view(-1,1)), dim=1) # (B, T+1)\n",
        "\n",
        "        return idx, log_probs, log_probs_ref"
      ],
      "metadata": {
        "id": "Rp4iqC2RWm6n"
      },
      "execution_count": null,
      "outputs": []
    },
    {
      "cell_type": "code",
      "source": [
        "import copy\n",
        "ref_model = copy.deepcopy(model)"
      ],
      "metadata": {
        "id": "4Z_-ygQYYhal"
      },
      "execution_count": null,
      "outputs": []
    },
    {
      "cell_type": "code",
      "source": [
        "import time\n",
        "import numpy as np\n",
        "\n",
        "RLHFmodel = RLHF(model)\n",
        "RLHFmodel.to(device)\n",
        "\n",
        "ref_model.to(device)\n",
        "\n",
        "actor_optimizer = torch.optim.AdamW(RLHFmodel.parameters(), lr=1e-3)\n",
        "X, Y = get_batch('train') # fetch the very first batch\n",
        "X = torch.ones((X.shape[0], 1), dtype=torch.long).to(device) # for now there is no prompt\n",
        "X = X*enc.encode('The')[0] # start with ''The'\n",
        "t0  = time.time()\n",
        "max_new_tokens = block_size\n",
        "rews_all = []\n",
        "actor_loss_all = []\n",
        "mode = '+ve'\n",
        "ref_coef = 0.2\n",
        "e_coef = 0.1\n",
        "for iter in range(max_iters_rlhf):\n",
        "\n",
        "  states, log_probs, log_probs_ref = RLHFmodel.generate(\n",
        "      X, max_new_tokens, block_size, ref_model=ref_model)\n",
        "\n",
        "  states = states[:,-max_new_tokens:]\n",
        "  log_probs = log_probs[:,-max_new_tokens:] # (B, max_new_tokens)\n",
        "  if ref_model is not None:\n",
        "    log_probs_ref = log_probs_ref[:,-max_new_tokens:] # (B, max_new_tokens)\n",
        "\n",
        "  rewards = get_reward([enc.decode(s.tolist()) for s in states], mode)\n",
        "\n",
        "  pg = (rewards+ref_coef*log_probs_ref-e_coef*log_probs)* log_probs.squeeze()\n",
        "\n",
        "  # log(1) = 0\n",
        "  # -log(1/N) = log(N)\n",
        "\n",
        "  # when ref_coef=e_coef this is equivalent to penalising for KL divergence\n",
        "  # pg = (rewards-ref_coef*(log_probs-log_probs_ref)* log_probs.squeeze()\n",
        "\n",
        "  actor_loss = -pg.sum()\n",
        "\n",
        "  actor_optimizer.zero_grad(set_to_none=True)\n",
        "  actor_loss.backward()\n",
        "  actor_optimizer.step()\n",
        "\n",
        "  rews_all.append(rewards.mean().detach().cpu().numpy())\n",
        "  actor_loss_all.append(actor_loss.detach().cpu().numpy())\n",
        "\n",
        "  if iter % eval_interval_rlhf == 0:\n",
        "      t1 = time.time()\n",
        "      print('\\n')\n",
        "      print(f'iter: {iter}, time: {t1-t0}')\n",
        "      print(f'Actor loss: {np.mean(actor_loss_all[-eval_interval_rlhf:])}')\n",
        "      print(f'rets: {np.mean(rews_all[-eval_interval_rlhf:])}')\n",
        "\n",
        "      textRLHF = RLHFmodel.generate(X, 2*max_new_tokens, block_size, ref_model=None)[0]\n",
        "      for i in range(1):\n",
        "          text_i = textRLHF[i,:]\n",
        "          print(enc.decode(text_i.tolist()))\n"
      ],
      "metadata": {
        "colab": {
          "base_uri": "https://localhost:8080/"
        },
        "id": "iZ7HG0qAahgo",
        "outputId": "c2229336-6e7f-4ec1-e829-e1ec8ef2f006"
      },
      "execution_count": null,
      "outputs": [
        {
          "output_type": "stream",
          "name": "stdout",
          "text": [
            "\n",
            "\n",
            "iter: 0, time: 2.4230880737304688\n",
            "Actor loss: -1174.6953125\n",
            "rets: 0.15557555854320526\n",
            "The nobles\n",
            "withoveseed\n",
            "Of our dimina to the narrow, of mine,\n",
            "For this earth brawling some fathers, thou shalt\n",
            "Con exceeds bow an ostows that were I\n",
            "actioning Roe that word;\n",
            "For what 'twas, likeers Lartft,\n",
            "And whose secret maid\n",
            "\n",
            "\n",
            "iter: 20, time: 44.26099371910095\n",
            "Actor loss: -1276.6146240234375\n",
            "rets: 0.08284272998571396\n",
            "The deceived!\n",
            "\n",
            "SICINs:\n",
            "The very faults of Norfolk is the cousin of sword;\n",
            "And, by me how so, seldom the last of that wounds\n",
            "Or much power home his clish'd utterhire, wine of that dame'd\n",
            "Of my life as the loss of death, be\n",
            "\n",
            "\n",
            "iter: 40, time: 84.0073173046112\n",
            "Actor loss: -1171.9931640625\n",
            "rets: 0.12373824417591095\n",
            "The bride, wives are\n",
            "Mis kneel to repent him for heaven and in debt.\n",
            "Look, thou fly, makes your beauty is his rash, I will not\n",
            "Say a side that taught their robbery.\n",
            "Mis up the demands Hastings.\n",
            "\n",
            "JULNot SAL:\n",
            "Your brother is drawn, and in\n",
            "\n",
            "\n",
            "iter: 60, time: 123.75460624694824\n",
            "Actor loss: -1200.064208984375\n",
            "rets: 0.1355905532836914\n",
            "The clouds in the blood'd age'd fearful's throne,\n",
            "To the priestred of me.\n",
            "\n",
            "HERMAMILLO:\n",
            "She are Imen, dear out your grace\n",
            "Whichose on your mother of the Duke of prince young\n",
            "Of blood of foul sword! I love upon your feet\n",
            "and ban\n",
            "\n",
            "\n",
            "iter: 80, time: 163.73739075660706\n",
            "Actor loss: -1015.2078247070312\n",
            "rets: 0.19954833388328552\n",
            "The loss ofitiveness.\n",
            "\n",
            "PAULINA:\n",
            "I am about the noble house of this presence,\n",
            " Rouro too words of England,\n",
            "And nothing, then all so, weeping yet\n",
            "Your grace comesstrance ouride the proudous thoughts!\n",
            "\n",
            "alt! Rome, pastUMNIA:\n",
            "\n",
            "\n",
            "iter: 100, time: 203.57134652137756\n",
            "Actor loss: -904.3199462890625\n",
            "rets: 0.2031252384185791\n",
            "The brother.\n",
            "\n",
            "MMeasure about the loved,\n",
            "Our letters of your worthy Gaunt lady:\n",
            "But four a town is worth'd by him,\n",
            "To rigence yield hand, there I am anyhee,\n",
            "I' love that steed our brother\n",
            "Than in bount about to joy,\n",
            "And\n",
            "\n",
            "\n",
            "iter: 120, time: 243.49756598472595\n",
            "Actor loss: -1021.115234375\n",
            "rets: 0.16891352832317352\n",
            "The thrustied\n",
            "Against his majesty to- idol and entence?\n",
            "\n",
            "DUKE VINCENTIO:\n",
            "Is that was too late that when love.\n",
            "\n",
            "JOHN OF GAUNT:\n",
            "Bend, fear of the dukedom.\n",
            "\n",
            "First Lord:\n",
            "I along, p stopp The\n",
            "\n",
            "\n",
            "iter: 140, time: 283.16065669059753\n",
            "Actor loss: -1081.0517578125\n",
            "rets: 0.16179659962654114\n",
            "The set-antied live,\n",
            "So bed change with the sovereign.\n",
            "\n",
            "CAMILLIUS:\n",
            "At me, sir. arise, welcome my lords.\n",
            "\n",
            "First Citizen:\n",
            "What someever,\n",
            "I know it again so little, that I have\n",
            "say that done sweat prisoner to Hermione,\n",
            "\n",
            "\n",
            "iter: 160, time: 323.1361253261566\n",
            "Actor loss: -994.4212036132812\n",
            "rets: 0.18603841960430145\n",
            "The get hath a true,\n",
            "If our land, like every laws;\n",
            "Some common pomp--\n",
            "\n",
            "NOROLYCUS:\n",
            "For fit.\n",
            "\n",
            "NORTHUMBERLAND:\n",
            "'Tis a man that I think one mine too:\n",
            "Her consent breathing night.\n",
            "\n",
            "QUEEN MARG\n",
            "\n",
            "\n",
            "iter: 180, time: 362.8759138584137\n",
            "Actor loss: -1087.4278564453125\n",
            "rets: 0.16612616181373596\n",
            "The seven; that else,\n",
            "If very Lancaster, prisoners hope, I'll sit,\n",
            "By our honouredraidign,\n",
            "Whilst endiniusial earued for that and meet,\n",
            "Who took mean you what thou fool nort\n",
            "More than they-rate moleer therefore from thygood course:\n",
            "\n"
          ]
        }
      ]
    },
    {
      "cell_type": "code",
      "source": [
        "# generate from the model\n",
        "context = torch.zeros((1, 1), dtype=torch.long, device=device)\n",
        "print(enc.decode(m.generate(context, max_new_tokens=200)[0].tolist()))"
      ],
      "metadata": {
        "id": "Mjv63OeQ0bUI"
      },
      "execution_count": null,
      "outputs": []
    },
    {
      "cell_type": "markdown",
      "source": [
        "1. We trained a GPT model to reproduce Shakespeare\n",
        "2. We built a reward model by repurposing a Huggingface sentiment classifier\n",
        "3. We fine tuned the GPT model using reinforcement learning.\n",
        "4. The model over-optimised the reward so we penalised it for moving too far from a reference model\n",
        "5. We found it to be far too repetitive and so we added in an entropy bonus to encourage diverse outputs\n",
        "\n",
        "---\n",
        "\n",
        "\n",
        "\n",
        "\n",
        "\n"
      ],
      "metadata": {
        "id": "6Na4mH46sFpx"
      }
    },
    {
      "cell_type": "code",
      "source": [],
      "metadata": {
        "id": "PJrQpMzU9gWJ"
      },
      "execution_count": null,
      "outputs": []
    }
  ]
}